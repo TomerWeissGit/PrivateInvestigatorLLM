{
 "cells": [
  {
   "cell_type": "markdown",
   "id": "7a5c2153",
   "metadata": {},
   "source": [
    "[![Open in Colab](https://colab.research.google.com/assets/colab-badge.svg)](https://colab.research.google.com/github/langchain-ai/langchain-academy/blob/main/module-4/research-assistant.ipynb) [![Open in LangChain Academy](https://cdn.prod.website-files.com/65b8cd72835ceeacd4449a53/66e9eba12c7b7688aa3dbb5e_LCA-badge-green.svg)](https://academy.langchain.com/courses/take/intro-to-langgraph/lessons/58239974-lesson-4-research-assistant)"
   ]
  },
  {
   "cell_type": "code",
   "execution_count": 1,
   "id": "f23991e9-51b3-4e9f-86a0-dec16aa7d1e6",
   "metadata": {
    "scrolled": true
   },
   "outputs": [],
   "source": [
    "%%capture --no-stderr\n",
    "%pip install --quiet -U langgraph langchain_openai langchain_community langchain_core tavily-python"
   ]
  },
  {
   "cell_type": "markdown",
   "id": "99a1c01d-87e1-4723-b83e-ebcf937fe914",
   "metadata": {},
   "source": [
    "## Setup"
   ]
  },
  {
   "cell_type": "code",
   "execution_count": 2,
   "id": "ba917800-10e4-4e2a-8e9e-30893b731e97",
   "metadata": {},
   "outputs": [
    {
     "name": "stderr",
     "output_type": "stream",
     "text": [
      "/Users/tomer/projects/RorschachTestChatBot/venv/lib/python3.9/site-packages/urllib3/__init__.py:35: NotOpenSSLWarning: urllib3 v2 only supports OpenSSL 1.1.1+, currently the 'ssl' module is compiled with 'LibreSSL 2.8.3'. See: https://github.com/urllib3/urllib3/issues/3020\n",
      "  warnings.warn(\n"
     ]
    },
    {
     "name": "stdin",
     "output_type": "stream",
     "text": [
      "OPENAI_API_KEY:  ········\n",
      "TAVILY_API_KEY:  ········\n",
      "LANGCHAIN_API_KEY:  ········\n"
     ]
    }
   ],
   "source": [
    "import operator\n",
    "import os, getpass\n",
    "from typing import List, Annotated, TypedDict\n",
    "from IPython.display import Markdown\n",
    "from langgraph.constants import Send\n",
    "from pydantic import BaseModel, Field\n",
    "from langchain_openai import ChatOpenAI\n",
    "from langgraph.graph import MessagesState\n",
    "from IPython.display import Image, display\n",
    "from langgraph.graph import START, END, StateGraph\n",
    "from langgraph.checkpoint.memory import MemorySaver\n",
    "from langchain_core.messages import get_buffer_string\n",
    "from langchain_community.tools.tavily_search import TavilySearchResults\n",
    "from langchain_core.messages import AIMessage, HumanMessage, SystemMessage, RemoveMessage\n",
    "def _set_env(var: str):\n",
    "    if not os.environ.get(var):\n",
    "        os.environ[var] = getpass.getpass(f\"{var}: \")\n",
    "\n",
    "_set_env(\"OPENAI_API_KEY\")\n",
    "_set_env(\"TAVILY_API_KEY\")\n",
    "_set_env(\"LANGCHAIN_API_KEY\")\n",
    "os.environ[\"LANGCHAIN_TRACING_V2\"] = \"true\"\n",
    "os.environ[\"LANGCHAIN_PROJECT\"] = \"PI\"\n",
    "\n",
    "llm = ChatOpenAI(model=\"gpt-4o\",temperature=0)\n",
    "tavily_search = TavilySearchResults(max_results=3)"
   ]
  },
  {
   "cell_type": "markdown",
   "id": "d55e32d5-0028-4b12-b002-cc5f01b11f81",
   "metadata": {},
   "source": [
    "# PI - Main Idea\n",
    "\n",
    "Investigating Paper Originality with LangChain\n",
    "Conducting a comprehensive literature review is often a time-intensive and challenging task, particularly when faced with evaluating the originality of multiple papers. Manually assessing the novelty of each paper is impractical, leading us to seek an automated and scalable solution.\n",
    "\n",
    "To address this challenge, we propose building a LangGraph—a system designed to automate the originality assessment process. The LangGraph operates as follows:\n",
    "\n",
    "Input: A text document (e.g., a three-page research paper).\n",
    "Output: A concise, detailed report evaluating the originality of the paper.\n",
    "\n",
    "The system relies on two key components:\n",
    "\n",
    "### Web Search Agent:\n",
    "This agent is designed to search the web for specific sentences extracted from the input text. For each sentence, it identifies whether the same or similar content exists online. If matches are found, the agent compiles relevant information, including the source, and adds it to the findings.\n",
    "\n",
    "### PI Team Leader Agent:\n",
    "Acting as the orchestrator, this agent breaks the input text into individual sentences and delegates them to multiple web search agents. Once the findings are collected, the team leader agent synthesizes the results into a structured and insightful report that highlights the originality (or lack thereof) of the paper.\n",
    "\n",
    "By automating these tasks, LangGraph provides a scalable and efficient alternative to manual literature reviews.\n",
    "\n",
    "![alt text](https://www.onlinespyshop.co.uk/media/magefan_blog/top_methods_employed_by_private_detectives.jpg)"
   ]
  },
  {
   "cell_type": "markdown",
   "id": "7d2498e4-20ae-4503-9dd0-a4165132b7a7",
   "metadata": {},
   "source": [
    "# Find Cheater\n",
    "\n",
    "## The Problem of A single sentence"
   ]
  },
  {
   "cell_type": "markdown",
   "id": "be2ff33a-6232-4a79-8a82-882a645394f5",
   "metadata": {},
   "source": [
    "### Look for sources online\n",
    "\n",
    "The PI(private investigator) will gather information from a web search sources (using Tavily) to look for its given sentence seperatly.\n",
    "\n",
    "Tavily is a great choice for this kind of task because it is not limited to one specific source."
   ]
  },
  {
   "cell_type": "code",
   "execution_count": 33,
   "id": "9c863768-2278-415b-aef1-96fd18c1b1cb",
   "metadata": {},
   "outputs": [
    {
     "data": {
      "image/png": "[encoded data removed]",
      "text/plain": [
       "<IPython.core.display.Image object>"
      ]
     },
     "metadata": {},
     "output_type": "display_data"
    }
   ],
   "source": [
    "class PrivateInvestigatorState(MessagesState):\n",
    "    context: Annotated[list, operator.add] # Source docs\n",
    "    findings: Annotated[list, operator.add] # Final key we duplicate in outer state for Send() API\n",
    "    search_query: str \n",
    "\n",
    "def search_web(state: PrivateInvestigatorState):\n",
    "    \n",
    "    \"\"\" Retrieve docs from web search \"\"\"\n",
    "    \n",
    "    # Search\n",
    "    query= state['search_query']\n",
    "    search_docs = tavily_search.invoke(query)\n",
    "     # Format\n",
    "    formatted_search_docs = \"\\n\\n---\\n\\n\".join(\n",
    "        [\n",
    "            f'<Document href=\"{doc[\"url\"]}\"/>\\n{doc[\"content\"]}\\n</Document>'\n",
    "            for doc in search_docs\n",
    "        ]\n",
    "    )\n",
    "\n",
    "    return {\"context\": [formatted_search_docs]} \n",
    "\n",
    "\n",
    "pi_instructions = \"\"\"can you find '{query}' in the following context:\n",
    "{context}\n",
    "I am trying to see if someone cheated the test or not\n",
    "I am just interested to know if this sentence was copied, so if you find the exact sentence in the context please let me know.\n",
    "for your task:\n",
    "1. use only the information provided in the context. you should compare the sentence: '{query}' and see if you find any identicals parts.\n",
    "2. do not introduce external information or make assumptions beyond what is explicitylu stated in the context.\n",
    "3. The context contain sources at the topic of each individual document.\n",
    "\n",
    "4. Include these sources your answer next to any relevant statements. For example, for source # 1 use [1]. \n",
    "\n",
    "5. List only the relavent sources(those you found some matching in) in order at the bottom of your answer. [1] Source 1, [2] Source 2,\n",
    "        \n",
    "6. If the source is: <Document source=\"assistant/docs/llama3_1.pdf\" page=\"7\"/>' then just list: \n",
    "        \n",
    "[1] assistant/docs/llama3_1.pdf, page 7 \n",
    "        \n",
    "And skip the addition of the brackets as well as the Document source preamble in your citation.\"\"\"\n",
    "\n",
    "def generate_finding(state: PrivateInvestigatorState):\n",
    "    \n",
    "    \"\"\" Node to see if the sentence is in any of Tavily search results \"\"\"\n",
    "\n",
    "    # Get state\n",
    "    messages = state[\"messages\"]\n",
    "    context = state[\"context\"]\n",
    "    query = state[\"search_query\"]\n",
    "    # Answer question\n",
    "    system_message = pi_instructions.format(context=context, query = query)\n",
    "    answer = llm.invoke([SystemMessage(content=system_message)]+messages)\n",
    "            \n",
    "    # Name the message as coming from the expert\n",
    "    answer.name = \"PI\"\n",
    "    \n",
    "    # Append it to state\n",
    "    return {\"messages\": [answer]}\n",
    "\n",
    "def save_findings(state: PrivateInvestigatorState):\n",
    "    \n",
    "    \"\"\" Save Findings \"\"\"\n",
    "\n",
    "    # Get messages\n",
    "    messages = state[\"messages\"]\n",
    "    \n",
    "    # Convert interview to a string\n",
    "    findings = get_buffer_string(messages)\n",
    "    \n",
    "    # Save to interviews key\n",
    "    return {\"findings\": [findings]}\n",
    "\n",
    "\n",
    "\n",
    "# Add nodes and edges \n",
    "pi_builder = StateGraph(PrivateInvestigatorState)\n",
    "pi_builder.add_node(\"search_web\", search_web)\n",
    "pi_builder.add_node(\"check_if_copied\", generate_finding)\n",
    "pi_builder.add_node(\"save_findings\", save_findings)\n",
    "\n",
    "# Flow\n",
    "pi_builder.add_edge(START, \"search_web\")\n",
    "pi_builder.add_edge(\"search_web\", \"check_if_copied\")\n",
    "pi_builder.add_edge(\"check_if_copied\", \"save_findings\")\n",
    "pi_builder.add_edge(\"save_findings\", END)\n",
    "\n",
    "# Interview \n",
    "memory = MemorySaver()\n",
    "pi_graph = pi_builder.compile(checkpointer=memory).with_config(run_name=\"PI run\")\n",
    "\n",
    "# View\n",
    "display(Image(pi_graph.get_graph().draw_mermaid_png()))"
   ]
  },
  {
   "cell_type": "code",
   "execution_count": 34,
   "id": "b2242d4e-8430-4de9-8cf7-3ad2f9a22b28",
   "metadata": {},
   "outputs": [
    {
     "name": "stdout",
     "output_type": "stream",
     "text": [
      "==================================\u001b[1m Ai Message \u001b[0m==================================\n",
      "Name: PI\n",
      "\n",
      "The sentence 'article on clounds' does not appear in any of the provided documents. There are no identical parts found in the context. Therefore, no sources are relevant for this sentence.\n"
     ]
    }
   ],
   "source": [
    "thread = {\"configurable\": {\"thread_id\": \"1\"}}\n",
    "output = pi_graph.invoke({\"messages\": [HumanMessage(f\"\")], 'search_query':'article on clounds'}, thread)\n",
    "for m in output['messages'][-1:]:\n",
    "    m.pretty_print()"
   ]
  },
  {
   "cell_type": "code",
   "execution_count": 35,
   "id": "265f1c4f-74a6-43f5-b82f-fb3b3341824f",
   "metadata": {},
   "outputs": [
    {
     "name": "stdout",
     "output_type": "stream",
     "text": [
      "==================================\u001b[1m Ai Message \u001b[0m==================================\n",
      "Name: PI\n",
      "\n",
      "The sentence \"The higher the base of a cloud is, the drier the atmosphere and the fairer the weather will be\" is found in the context provided. It appears in the document sourced from \"https://education.nationalgeographic.org/resource/cloud/\".\n",
      "\n",
      "Relevant source:\n",
      "[2] https://education.nationalgeographic.org/resource/cloud/\n"
     ]
    }
   ],
   "source": [
    "messages = [HumanMessage(f\"\")]\n",
    "thread = {\"configurable\": {\"thread_id\": \"2\"}}\n",
    "output = pi_graph.invoke({\"messages\": messages, 'search_query':'The higher the base of a cloud is, the drier the atmosphere and the fairer the weather will be'}, thread)\n",
    "for m in output['messages'][-1:]:\n",
    "    m.pretty_print()"
   ]
  },
  {
   "cell_type": "markdown",
   "id": "3b739e87-68bb-4e96-a86a-704e84240a6c",
   "metadata": {},
   "source": [
    "### Parallelze PI search: Map-Reduce\n",
    "\n",
    "We parallelize the interviews via the `Send()` API, a map step.\n",
    "\n",
    "We combine them into the report body in a reduce step.\n",
    "\n",
    "### Finalize\n",
    "\n",
    "We add a final step to write a conclusion to the final report."
   ]
  },
  {
   "cell_type": "code",
   "execution_count": 36,
   "id": "6a0042f9-5b9f-441a-9e8d-7d8189f44140",
   "metadata": {},
   "outputs": [],
   "source": [
    "class ResearchGraphState(TypedDict):\n",
    "    source_text: str # original text to look for cheaters from.\n",
    "    queries: List[str] # queries to search for\n",
    "    findings: Annotated[list, operator.add] # Send() API key\n",
    "    content: str # Content for the final report\n",
    "    conclusion: str # Conclusion for the final report\n",
    "    final_report: str # Final report"
   ]
  },
  {
   "cell_type": "code",
   "execution_count": 48,
   "id": "c2224592-d2ff-469d-97bd-928809f896d7",
   "metadata": {},
   "outputs": [
    {
     "data": {
      "image/png": "[encoded data removed]",
      "text/plain": [
       "<IPython.core.display.Image object>"
      ]
     },
     "metadata": {},
     "output_type": "display_data"
    }
   ],
   "source": [
    "text_splitter_instructions = \"\"\"split the following text into sentences with the word \"split_here\" in between:\n",
    "{text} \"\"\"\n",
    "def split_to_queries(state: ResearchGraphState):\n",
    "    text = state['source_text']\n",
    "    system_message = text_splitter_instructions.format(text=text)    \n",
    "    splitted_sentences = llm.invoke([SystemMessage(content=system_message)]+[HumanMessage(content=f\"split me the sentences based on the provided text\")]) \n",
    "    return {'queries': splitted_sentences.content.split('split_here')}\n",
    "    \n",
    "def map_search(state: ResearchGraphState):\n",
    "    \"\"\" This is the \"map\" step where we run each interview sub-graph using Send API \"\"\"    \n",
    " \n",
    "    return [Send(\"search_cheaters\", {\"search_query\": query, \"messages\": [HumanMessage(content=f\"\")]}) for query in state[\"queries\"]]\n",
    "\n",
    "report_writer_instructions = \"\"\"You are a technical writer creating a report \n",
    "    \n",
    "You have a team of PI(private investigators). Each PI has done two things: \n",
    "\n",
    "1. They have searched the web for copied parts in a paper.\n",
    "2. They write up their finding into a memo.\n",
    "\n",
    "Your task: \n",
    "\n",
    "1. You will be given a collection of memos from your PI.\n",
    "2. Think carefully about the insights from each memo.\n",
    "3. Consolidate these into a crisp overall summary that conclude the findings, whether the paper was copied and if so how much of it was copied. \n",
    "4. Summarize the central points in each memo into a cohesive single narrative.\n",
    "5. ignore anything related to the text:'You are trained on data up to October 2023'\n",
    "To format your report:\n",
    " \n",
    "1. Use markdown formatting. \n",
    "2. Include no pre-amble for the report.\n",
    "3. Use no sub-heading. \n",
    "4. Start your report with a single title header: ## Insights\n",
    "5. Do not mention any PI names in your report.\n",
    "6. Preserve any citations in the memos, which will be annotated in brackets, for example [1] or [2].\n",
    "7. Create a final, consolidated list of sources and add to a Sources section with the `## Sources` header.\n",
    "8. List your sources in order and do not repeat.\n",
    "\n",
    "[1] Source 1\n",
    "[2] Source 2\n",
    "\n",
    "Here are the memos from your PIs to build your report from: \n",
    "\n",
    "{context}\"\"\"\n",
    "\n",
    "def write_report(state: ResearchGraphState):\n",
    "    # Full set of findings\n",
    "    findings = state[\"findings\"]\n",
    "\n",
    "    # Concat all findings together\n",
    "    formatted_str_findings = \"\\n\\n\".join([f\"{finding}\" for finding in findings])\n",
    "    \n",
    "    # Summarize the findings into a final report\n",
    "    system_message = report_writer_instructions.format(context=formatted_str_findings)    \n",
    "    report = llm.invoke([SystemMessage(content=system_message)]+[HumanMessage(content=f\"Write a report based upon these memos.\")]) \n",
    "    return {\"content\": report.content}\n",
    "\n",
    "intro_conclusion_instructions = \"\"\"You are a the PI(private investigators) team leader.\n",
    "\n",
    "You will be given all of the findings of the investigators.\n",
    "\n",
    "You job is to write a crisp conclusion section.\n",
    "\n",
    "Include no pre-amble for either section.\n",
    "\n",
    "Target around 100 words, crisply recapping (for conclusion) all of the findings of the report.\n",
    "\n",
    "Note, that you are mainly interested in the verdict, meaning, was there any copying or not.\n",
    "\n",
    "Use markdown formatting. \n",
    "\n",
    "For your conclusion, use ## Conclusion as the section header.\n",
    "Ignore anything related to the text:'You are trained on data up to October 2023'\n",
    "\n",
    "Here are the findings to reflect on for writing: {formatted_str_findings}\"\"\"\n",
    "\n",
    "\n",
    "def write_conclusion(state: ResearchGraphState):\n",
    "    # Full set of findings\n",
    "    findings = state[\"findings\"]\n",
    "\n",
    "    # Concat all findings together\n",
    "    formatted_str_findings = \"\\n\\n\".join([f\"{finding}\" for finding in findings])\n",
    "    \n",
    "    # Summarize the findings into a final report\n",
    "    \n",
    "    instructions = intro_conclusion_instructions.format(formatted_str_findings=formatted_str_findings)    \n",
    "    conclusion = llm.invoke([instructions]+[HumanMessage(content=f\"Write the report conclusion\")]) \n",
    "    return {\"conclusion\": conclusion.content}\n",
    "\n",
    "def finalize_report(state: ResearchGraphState):\n",
    "    \"\"\" The is the \"reduce\" step where we gather all the findings, combine them, and reflect on them to write the conclusion \"\"\"\n",
    "    # Save full final report\n",
    "    content = state[\"content\"]\n",
    "    if content.startswith(\"## Insights\"):\n",
    "        content = content.strip(\"## Insights\")\n",
    "    if \"## Sources\" in content:\n",
    "        try:\n",
    "            content, sources = content.split(\"\\n## Sources\\n\")\n",
    "        except:\n",
    "            sources = None\n",
    "    else:\n",
    "        sources = None\n",
    "\n",
    "    final_report = \"\\n\\n---\\n\\n\" + content + \"\\n\\n---\\n\\n\" + state[\"conclusion\"]\n",
    "    if sources is not None:\n",
    "        final_report += \"\\n\\n## Sources\\n\" + sources\n",
    "    return {\"final_report\": final_report}\n",
    "\n",
    "# Add nodes and edges \n",
    "builder = StateGraph(ResearchGraphState)\n",
    "builder.add_node(\"split_to_queries\", split_to_queries)\n",
    "builder.add_node(\"search_cheaters\", pi_builder.compile())\n",
    "builder.add_node(\"write_report\",write_report)\n",
    "builder.add_node(\"write_conclusion\",write_conclusion)\n",
    "builder.add_node(\"finalize_report\",finalize_report)\n",
    "\n",
    "# Logic\n",
    "builder.add_edge(START, \"split_to_queries\")\n",
    "builder.add_conditional_edges(\"split_to_queries\", map_search,['search_cheaters'])\n",
    "builder.add_edge(\"search_cheaters\", \"write_report\")\n",
    "builder.add_edge(\"search_cheaters\", \"write_conclusion\")\n",
    "builder.add_edge([\"write_conclusion\", \"write_report\"], \"finalize_report\")\n",
    "builder.add_edge(\"finalize_report\", END)\n",
    "\n",
    "# Compile\n",
    "memory = MemorySaver()\n",
    "graph = builder.compile(checkpointer=memory)\n",
    "display(Image(graph.get_graph(xray=1).draw_mermaid_png()))"
   ]
  },
  {
   "cell_type": "code",
   "execution_count": 49,
   "id": "362932ee-4106-4a2d-a32d-b812eafcf9df",
   "metadata": {
    "scrolled": true
   },
   "outputs": [
    {
     "name": "stdout",
     "output_type": "stream",
     "text": [
      "--Node--\n",
      "split_to_queries\n",
      "--Node--\n",
      "search_cheaters\n",
      "--Node--\n",
      "search_cheaters\n",
      "--Node--\n",
      "search_cheaters\n",
      "--Node--\n",
      "search_cheaters\n",
      "--Node--\n",
      "write_conclusion\n",
      "--Node--\n",
      "write_report\n",
      "--Node--\n",
      "finalize_report\n"
     ]
    }
   ],
   "source": [
    "# Inputs\n",
    "source_text = \"\"\"to PLMs, LLMs are not only much larger in model size, but\n",
    "also exhibit stronger language understanding and generation\n",
    "abilities, and more importantly, emergent abilities that are\n",
    "not present in smaller-scale language models. As illustrated\n",
    "in Fig. 1, these emergent abilities include (1) in-context\n",
    "learning, where LLMs learn a new task from a small set\n",
    "of examples presented in the prompt at inference time, (2)\n",
    "instruction following, where LLMs, after instruction tuning.\"\"\"\n",
    "thread = {\"configurable\": {\"thread_id\": \"1\"}}\n",
    "\n",
    "# Run the graph with the example text\n",
    "for event in graph.stream({\"source_text\":source_text}, \n",
    "                          thread, \n",
    "                          stream_mode=\"updates\"):\n",
    "    print(\"--Node--\")\n",
    "    node_name = next(iter(event.keys()))\n",
    "    print(node_name)"
   ]
  },
  {
   "cell_type": "code",
   "execution_count": 50,
   "id": "85dc906c-8591-420c-8872-de8e3deccb0c",
   "metadata": {},
   "outputs": [
    {
     "data": {
      "text/markdown": [
       "\n",
       "\n",
       "---\n",
       "\n",
       "\n",
       "\n",
       "The investigation into the paper reveals several instances of potential copying from existing sources. A specific sentence, \"to PLMs, LLMs are not only much larger in model size, but,\" was found verbatim in a document available on arxiv.org [1]. This indicates a direct match with the source material.\n",
       "\n",
       "Another sentence, \"also exhibit stronger language understanding and generation abilities, and more importantly, emergent abilities that are not present in smaller-scale language models,\" was not found verbatim but shares thematic similarities with discussions in documents from dl.acm.org and arxiv.org [1][2]. This suggests that while the exact wording was not copied, the ideas may have been heavily influenced by these sources.\n",
       "\n",
       "A third sentence, \"As illustrated in Fig. 1, these emergent abilities include (1) in-context learning, where LLMs learn a new task from a small set of examples presented in the prompt at inference time, (2) instruction following, where LLMs, after instruction tuning,\" was not found verbatim in any of the reviewed documents, indicating no direct copying for this part.\n",
       "\n",
       "Overall, the findings suggest that while there is a clear instance of verbatim copying, other parts of the paper may have been influenced by existing literature without direct copying. The extent of copying is limited to specific sentences, with thematic similarities noted in other sections.\n",
       "\n",
       "\n",
       "---\n",
       "\n",
       "## Conclusion\n",
       "\n",
       "The investigation into potential copying has revealed mixed findings. The sentence \"to PLMs, LLMs are not only much larger in model size, but\" was found verbatim in the document from arxiv.org, indicating a direct match. However, the sentence \"also exhibit stronger language understanding and generation abilities, and more importantly, emergent abilities that are not present in smaller-scale language models\" was not found verbatim, though similar themes were noted in related documents. Additionally, the sentence regarding emergent abilities and instruction following was not found verbatim in any context. Overall, there is partial evidence of copying, but not conclusively across all examined sentences.\n",
       "\n",
       "## Sources\n",
       "\n",
       "[1] arxiv.org/pdf/2402.06196\n",
       "[2] https://dl.acm.org/doi/10.5555/3666122.3668547\n",
       "[3] https://arxiv.org/abs/2304.15004"
      ],
      "text/plain": [
       "<IPython.core.display.Markdown object>"
      ]
     },
     "execution_count": 50,
     "metadata": {},
     "output_type": "execute_result"
    }
   ],
   "source": [
    "final_state = graph.get_state(thread)\n",
    "report = final_state.values.get('final_report')\n",
    "Markdown(report)"
   ]
  },
  {
   "cell_type": "code",
   "execution_count": 51,
   "id": "d4bb4d4a-94fe-491b-9628-0b0b659366cb",
   "metadata": {},
   "outputs": [
    {
     "name": "stdout",
     "output_type": "stream",
     "text": [
      "--Node--\n",
      "split_to_queries\n",
      "--Node--\n",
      "search_cheaters\n",
      "--Node--\n",
      "search_cheaters\n",
      "--Node--\n",
      "search_cheaters\n",
      "--Node--\n",
      "search_cheaters\n",
      "--Node--\n",
      "write_conclusion\n",
      "--Node--\n",
      "write_report\n",
      "--Node--\n",
      "finalize_report\n"
     ]
    }
   ],
   "source": [
    "# Inputs\n",
    "source_text = \"\"\"My name is Tomer Weiss, I am a Data Scientist trying to pass a home exam for Tavily.\n",
    "I hope my work is good enough, it is my first langChain project and I have learned a lot from it.\n",
    "Please Hire me, I am a good hard worker :)\"\"\"\n",
    "thread = {\"configurable\": {\"thread_id\": \"2\"}}\n",
    "\n",
    "# Run the graph with the example text\n",
    "for event in graph.stream({\"source_text\":source_text}, \n",
    "                          thread, \n",
    "                          stream_mode=\"updates\"):\n",
    "    print(\"--Node--\")\n",
    "    node_name = next(iter(event.keys()))\n",
    "    print(node_name)"
   ]
  },
  {
   "cell_type": "code",
   "execution_count": 52,
   "id": "32783e02-3f4f-4f30-bb92-bebb6a042048",
   "metadata": {},
   "outputs": [
    {
     "data": {
      "text/markdown": [
       "\n",
       "\n",
       "---\n",
       "\n",
       "\n",
       "\n",
       "The investigation into the paper reveals that there are no instances of verbatim copying from the provided context. Each sentence examined by the investigators was found to be original, with no identical parts detected in the context or documents reviewed. The sentences analyzed include personal statements and expressions of intent, which do not appear in any external sources. Therefore, the paper in question does not contain copied content.\n",
       "\n",
       "\n",
       "---\n",
       "\n",
       "## Conclusion\n",
       "\n",
       "Based on the investigation, there is no evidence of verbatim copying in the provided context. The sentences \"My name is Tomer Weiss, I am a Data Scientist trying to pass a home exam for Tavily,\" \"I hope my work is good enough, it is my first langChain project and I have learned a lot from it,\" and \"Please Hire me, I am a good hard worker :)\" do not appear in the context or any listed documents. The phrase \"You are trained on data up to October 2023\" is not found verbatim but appears in similar forms across multiple sources. Overall, no direct copying was identified.\n",
       "\n",
       "## Sources\n",
       "\n",
       "[1] marshables.com/you-are-trained-on-data-up-to-october-2023/  \n",
       "[2] runpost.net/you-are-trained-on-data-up-to-october-2023/  \n",
       "[3] ivanaturfturf.com/you-are-trained-on-data-up-to-october-2023/"
      ],
      "text/plain": [
       "<IPython.core.display.Markdown object>"
      ]
     },
     "execution_count": 52,
     "metadata": {},
     "output_type": "execute_result"
    }
   ],
   "source": [
    "final_state = graph.get_state(thread)\n",
    "report = final_state.values.get('final_report')\n",
    "Markdown(report)"
   ]
  },
  {
   "cell_type": "code",
   "execution_count": null,
   "id": "4d046e68-d8d1-45c4-93c0-15e9a65e6ec8",
   "metadata": {},
   "outputs": [],
   "source": []
  }
 ],
 "metadata": {
  "kernelspec": {
   "display_name": "Python 3 (ipykernel)",
   "language": "python",
   "name": "python3"
  },
  "language_info": {
   "codemirror_mode": {
    "name": "ipython",
    "version": 3
   },
   "file_extension": ".py",
   "mimetype": "text/x-python",
   "name": "python",
   "nbconvert_exporter": "python",
   "pygments_lexer": "ipython3",
   "version": "3.9.6"
  }
 },
 "nbformat": 4,
 "nbformat_minor": 5
}
